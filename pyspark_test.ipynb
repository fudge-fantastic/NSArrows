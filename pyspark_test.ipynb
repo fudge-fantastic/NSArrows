{
 "cells": [
  {
   "cell_type": "code",
   "execution_count": 30,
   "metadata": {},
   "outputs": [],
   "source": [
    "import os\n",
    "import dotenv\n",
    "import psycopg2\n",
    "from psycopg2 import sql\n",
    "import pandas as pd\n",
    "from groq import Groq\n",
    "from pyspark.sql import SparkSession"
   ]
  },
  {
   "cell_type": "code",
   "execution_count": 31,
   "metadata": {},
   "outputs": [],
   "source": [
    "def get_llama_assistance(prompt, formatted_metadata, table_name):\n",
    "    main_purpose = f\"\"\"\n",
    "    As an SQL Query Expert, your primary role is to understand the given data, answer the questions based on the provided input and generate accurate SQL queries ONLY. \n",
    "    Remember, you only have to answer the Query for the given input, don't give any explanation, just the query. \n",
    "    Here are the column names with respect to their information: \n",
    "    {formatted_metadata}\n",
    "    The table name is {table_name}\n",
    "    Here is/are the Questions:\"\"\"\n",
    "\n",
    "    client = Groq(api_key=os.environ.get(\"GROQ_API_KEY\"))\n",
    "    completion = client.chat.completions.create(\n",
    "        model=\"llama3-70b-8192\",\n",
    "        messages=[\n",
    "            {\n",
    "                \"role\": \"user\",\n",
    "                \"content\": f\"{main_purpose} {prompt}\"\n",
    "            },\n",
    "            {\n",
    "                \"role\": \"assistant\",\n",
    "                \"content\": \"\"\n",
    "            }\n",
    "        ],\n",
    "        temperature=1.4,\n",
    "        max_tokens=8192,\n",
    "        top_p=1,\n",
    "        stream=True,\n",
    "        stop=None,\n",
    "    )\n",
    "\n",
    "    response_text = \"\"\n",
    "    for chunk in completion:\n",
    "        response_text += chunk.choices[0].delta.content or \"\"\n",
    "    \n",
    "    # Remove backticks from the response\n",
    "    cleaned_response = response_text.replace(\"```\", \"\").strip()\n",
    "    \n",
    "    return cleaned_response"
   ]
  },
  {
   "cell_type": "markdown",
   "metadata": {},
   "source": [
    "### PySpark"
   ]
  },
  {
   "cell_type": "code",
   "execution_count": 32,
   "metadata": {},
   "outputs": [
    {
     "name": "stdout",
     "output_type": "stream",
     "text": [
      "+------+--------+--------+--------------------+-----------------+------------------+-----------+-------------+---------------------+---------------+-----------+---------+---------+-------------------------------+----------------+------------+--------------+-----------------+-------------------+-------------+-------------------------+--------------------------+---------+----------------------+-----------------+------+-------------+-----------------------+--------------------+------------------------+-----------------+\n",
      "|ref_no|children|age_band|              status|       occupation|occupation_partner|home_status|self_employed|self_employed_partner|year_last_moved|     tvarea|post_code|post_area|average_credit_card_transaction|balance_transfer|term_deposit|life_insurance|medical_insurance|average_a_c_balance|personal_loan|investment_in_mutual_fund|investment_tax_saving_bond|home_loan|online_purchase_amount|discount_offering|gender|       region|investment_in_commudity|investment_in_equity|investment_in_derivative|portfolio_balance|\n",
      "+------+--------+--------+--------------------+-----------------+------------------+-----------+-------------+---------------------+---------------+-----------+---------+---------+-------------------------------+----------------+------------+--------------+-----------------+-------------------+-------------+-------------------------+--------------------------+---------+----------------------+-----------------+------+-------------+-----------------------+--------------------+------------------------+-----------------+\n",
      "|     1|    Zero|   51-55|             Partner|    Manual Worker| Secretarial/Admin|   Own Home|           No|                   No|           1972|        HTV|  NP4 9HS|      NP4|                         148.44|          142.95|         0.0|         81.96|              0.0|              29.99|          0.0|                    61.95|                     19.99|      0.0|                   0.0|                1|Female|        Wales|                  74.67|               18.66|                   32.32|            89.43|\n",
      "|     2|    Zero|   55-60|Single/Never Married|          Retired|           Retired|   Own Home|           No|                   No|           1998|    Granada|  M41 0QH|      M41|                            0.0|           74.98|         0.0|         25.99|              0.0|                0.0|          0.0|                      0.0|                       0.0|      0.0|                   0.0|                2|Female|   North West|                  20.19|                 0.0|                    4.33|            22.78|\n",
      "|     3|    Zero|   26-30|Single/Never Married|     Professional|             Other|   Own Home|          Yes|                   No|           1996|  Tyne Tees| NE30 1JZ|     NE30|                            0.0|          166.44|       20.99|        291.37|            11.48|             166.94|          0.0|                    15.99|                       0.0|     3.49|                   0.0|                2|  Male|        North|                  98.06|               31.07|                   80.96|           171.78|\n",
      "|     5|    Zero|   18-21|Single/Never Married|     Professional|     Manual Worker|   Own Home|           No|                   No|           1997|    Central|  HR9 7RJ|      HR9|                            0.0|             0.0|         0.0|         20.49|              0.0|              39.46|          0.0|                    45.44|                       0.0|      0.0|                   0.0|                2|Female|West Midlands|                    4.1|               14.15|                   17.57|            -41.7|\n",
      "|     6|    Zero|   45-50|             Partner| Business Manager|           Unknown|   Own Home|           No|                   No|           1995|Scottish TV| KA10 7LS|     KA10|                          73.45|           57.96|         0.0|        177.42|            41.95|              39.47|        10.97|                   212.84|                       0.0|    45.91|                 25.98|                2|Female|     Scotland|                  70.16|               55.86|                   80.44|           235.02|\n",
      "|     7|    Zero|   55-60|             Partner|Secretarial/Admin|     Manual Worker|   Own Home|           No|                  Yes|           1984|     Anglia| IP24 1AY|     IP24|                            0.0|          125.45|         0.0|        129.96|              0.0|                0.0|          0.0|                    88.95|                       0.0|      0.0|                   0.0|                2|Female|  East Anglia|                  51.08|               14.83|                   36.49|             72.3|\n",
      "|     8|    Zero|   45-50|             Partner|     Professional|     Manual Worker|   Own Home|           No|                   No|           1985|    Central| CV32 7BN|     CV32|                            0.0|           29.48|       97.42|          0.02|            39.45|              63.97|          0.0|                    49.42|                       0.0|      0.0|                   0.0|                2|Female|West Midlands|                  33.27|                18.9|                   25.48|           115.28|\n",
      "|     9|       1|   36-40|             Partner|     Professional|      Professional|   Own Home|           No|                   No|           1993|Scottish TV|  G68 9AN|      G68|                            0.0|            0.01|      175.88|         67.47|              0.0|             110.95|        86.39|                    74.93|                     41.71|    35.41|                 11.99|                2|Female|     Scotland|                  48.67|               60.23|                   63.58|            162.4|\n",
      "|    10|    Zero|   36-40|Single/Never Married|Secretarial/Admin|           Unknown|   Own Home|           No|                   No|           1995|    Carlton|  E15 3AR|      E15|                           25.0|             0.0|       76.45|         24.99|              0.0|              87.93|          0.0|                   253.27|                     12.48|     7.21|                  8.99|                2|  Male|   South East|                  25.29|               61.65|                   63.11|            105.2|\n",
      "|    11|       2|   36-40|             Partner|     Professional|      Professional|   Own Home|           No|                   No|           1993|    Granada| WA14 4UH|     WA14|                            0.0|           74.98|       62.98|        141.91|            44.48|                0.0|        13.99|                    49.95|                       0.0|    10.49|                  7.98|                2|Female|   North West|                  64.87|               13.74|                   41.72|            93.09|\n",
      "|    13|    Zero|   61-65|             Partner|          Retired|           Retired|   Own Home|           No|                   No|           1987|    Granada| LL18 3BB|     LL18|                            0.0|           24.99|         0.0|           0.0|              0.0|                0.0|          0.0|                      0.0|                       0.0|     5.99|                   0.0|                2|Female|        Wales|                    5.0|                 1.0|                     0.0|           -18.84|\n",
      "|    14|    Zero|   45-50|             Partner| Business Manager|      Professional|   Own Home|           No|                   No|           1986|        HTV| SA73 1AX|     SA73|                            0.0|          118.98|         0.0|         92.46|              0.0|                0.0|          0.0|                   113.46|                       0.0|     9.99|                   0.0|                2|Female|        Wales|                  42.29|               20.58|                   34.32|           129.71|\n",
      "|    15|    Zero|   51-55|             Widowed|     Professional|           Unknown|   Own Home|           No|                   No|           1997|   Meridian|   L7 5QN|       L7|                            0.0|           49.47|       59.48|        235.78|             9.48|              95.93|          0.0|                    51.95|                       0.0|     4.48|                 12.98|                2|Female|   North West|                  70.84|               27.56|                   65.52|           175.41|\n",
      "|    16|    Zero|   31-35|Single/Never Married|    Manual Worker| Secretarial/Admin|   Own Home|           No|                   No|           1998|    Central|  GL2 4WP|      GL2|                          16.98|           25.99|      219.46|         34.48|           102.45|              49.99|        50.96|                    17.99|                       2.0|      0.0|                   0.0|                2|  Male|   South West|                  79.87|               20.16|                   42.98|            77.14|\n",
      "|    17|       1|   31-35|             Partner|Secretarial/Admin|  Business Manager|   Own Home|           No|                   No|           1994|    Central|  B77 4NU|      B77|                         117.48|           69.97|       82.97|         77.96|              0.0|              11.49|        45.98|                    19.47|                      7.49|    18.46|                 13.98|                2|Female|West Midlands|                  69.68|               19.48|                   27.07|            78.41|\n",
      "|    18|    Zero|   26-30|             Partner|          Unknown|      Professional|   Own Home|          Yes|                   No|           1998|Scottish TV| ML10 6XH|     ML10|                            0.0|           99.96|       39.48|        135.41|            44.48|              56.46|          0.0|                   123.39|                       0.0|    39.96|                   0.0|                2|Female|     Scotland|                  63.87|               36.64|                   59.96|           115.89|\n",
      "|    19|    Zero|   41-45|             Partner|Secretarial/Admin|           Unknown|   Own Home|           No|                  Yes|           1986|    Central| CV11 6YH|     CV11|                          19.99|            9.98|       29.48|         73.95|            30.48|              78.96|        26.47|                    99.13|                       0.0|      0.0|                   0.0|                2|Female|West Midlands|                  32.78|               34.09|                    51.5|           129.15|\n",
      "|    20|    Zero|   41-45|  Divorced/Separated|     Professional|           Unknown|   Own Home|           No|                   No|           1974|    Central| CV31 2RQ|     CV31|                          34.49|          182.47|         0.0|        131.94|              0.0|             112.46|          0.0|                    48.97|                       0.0|      0.0|                 27.99|                2|Female|West Midlands|                  69.78|               31.57|                    48.9|           150.56|\n",
      "|    21|       1|   41-45|             Partner|Secretarial/Admin|     Manual Worker|   Own Home|           No|                   No|           1983|    Central| WV15 5AY|     WV15|                          35.48|             0.0|         0.0|        122.45|            39.47|              47.45|        63.93|                    86.43|                     12.49|    21.46|                   0.0|                2|Female|West Midlands|                  39.48|               38.63|                   62.04|           134.44|\n",
      "|    23|    Zero|   41-45|  Divorced/Separated|Secretarial/Admin|           Unknown|   Own Home|           No|                   No|           1997|        HTV|  TA2 6HY|      TA2|                            0.0|           61.98|       44.98|        189.42|            26.45|              22.96|          0.0|                   232.33|                       0.0|      0.0|                 16.99|                2|Female|   South West|                  64.57|               45.38|                   78.53|           207.07|\n",
      "+------+--------+--------+--------------------+-----------------+------------------+-----------+-------------+---------------------+---------------+-----------+---------+---------+-------------------------------+----------------+------------+--------------+-----------------+-------------------+-------------+-------------------------+--------------------------+---------+----------------------+-----------------+------+-------------+-----------------------+--------------------+------------------------+-----------------+\n",
      "only showing top 20 rows\n",
      "\n"
     ]
    }
   ],
   "source": [
    "spark = SparkSession.builder.getOrCreate()\n",
    "d = spark.read.csv(\"test_data.csv\", header=True)\n",
    "d.show()"
   ]
  },
  {
   "cell_type": "code",
   "execution_count": 33,
   "metadata": {},
   "outputs": [
    {
     "name": "stdout",
     "output_type": "stream",
     "text": [
      "root\n",
      " |-- ref_no: string (nullable = true)\n",
      " |-- children: string (nullable = true)\n",
      " |-- age_band: string (nullable = true)\n",
      " |-- status: string (nullable = true)\n",
      " |-- occupation: string (nullable = true)\n",
      " |-- occupation_partner: string (nullable = true)\n",
      " |-- home_status: string (nullable = true)\n",
      " |-- self_employed: string (nullable = true)\n",
      " |-- self_employed_partner: string (nullable = true)\n",
      " |-- year_last_moved: string (nullable = true)\n",
      " |-- tvarea: string (nullable = true)\n",
      " |-- post_code: string (nullable = true)\n",
      " |-- post_area: string (nullable = true)\n",
      " |-- average_credit_card_transaction: string (nullable = true)\n",
      " |-- balance_transfer: string (nullable = true)\n",
      " |-- term_deposit: string (nullable = true)\n",
      " |-- life_insurance: string (nullable = true)\n",
      " |-- medical_insurance: string (nullable = true)\n",
      " |-- average_a_c_balance: string (nullable = true)\n",
      " |-- personal_loan: string (nullable = true)\n",
      " |-- investment_in_mutual_fund: string (nullable = true)\n",
      " |-- investment_tax_saving_bond: string (nullable = true)\n",
      " |-- home_loan: string (nullable = true)\n",
      " |-- online_purchase_amount: string (nullable = true)\n",
      " |-- discount_offering: string (nullable = true)\n",
      " |-- gender: string (nullable = true)\n",
      " |-- region: string (nullable = true)\n",
      " |-- investment_in_commudity: string (nullable = true)\n",
      " |-- investment_in_equity: string (nullable = true)\n",
      " |-- investment_in_derivative: string (nullable = true)\n",
      " |-- portfolio_balance: string (nullable = true)\n",
      "\n"
     ]
    }
   ],
   "source": [
    "d.printSchema()"
   ]
  },
  {
   "cell_type": "code",
   "execution_count": 34,
   "metadata": {},
   "outputs": [
    {
     "name": "stdout",
     "output_type": "stream",
     "text": [
      "+--------------------+---------------------+---------------------+\n",
      "|              status|avg_portfolio_balance|avg_medical_insurance|\n",
      "+--------------------+---------------------+---------------------+\n",
      "|             Partner|    91.48552990011672|    19.34997924503847|\n",
      "|Single/Never Married|    88.66623978201653|    18.46096276112623|\n",
      "|             Unknown|             65.86375|   13.132291666666669|\n",
      "|  Divorced/Separated|     91.4188070692194|   19.051767304860014|\n",
      "|             Widowed|    81.72394822006467|   18.327686084142346|\n",
      "+--------------------+---------------------+---------------------+\n",
      "\n"
     ]
    }
   ],
   "source": [
    "d.createOrReplaceTempView(\"d\")\n",
    "new_query = spark.sql('''SELECT \n",
    "  status, \n",
    "  AVG(portfolio_balance) AS avg_portfolio_balance, \n",
    "  AVG(medical_insurance) AS avg_medical_insurance\n",
    "FROM \n",
    "  d\n",
    "GROUP BY \n",
    "  status;''').show()"
   ]
  },
  {
   "cell_type": "code",
   "execution_count": 38,
   "metadata": {},
   "outputs": [
    {
     "data": {
      "text/html": [
       "<div>\n",
       "<style scoped>\n",
       "    .dataframe tbody tr th:only-of-type {\n",
       "        vertical-align: middle;\n",
       "    }\n",
       "\n",
       "    .dataframe tbody tr th {\n",
       "        vertical-align: top;\n",
       "    }\n",
       "\n",
       "    .dataframe thead th {\n",
       "        text-align: right;\n",
       "    }\n",
       "</style>\n",
       "<table border=\"1\" class=\"dataframe\">\n",
       "  <thead>\n",
       "    <tr style=\"text-align: right;\">\n",
       "      <th></th>\n",
       "      <th>status</th>\n",
       "      <th>avg_portfolio_balance</th>\n",
       "      <th>avg_medical_insurance</th>\n",
       "    </tr>\n",
       "  </thead>\n",
       "  <tbody>\n",
       "    <tr>\n",
       "      <th>0</th>\n",
       "      <td>Partner</td>\n",
       "      <td>91.485530</td>\n",
       "      <td>19.349979</td>\n",
       "    </tr>\n",
       "    <tr>\n",
       "      <th>1</th>\n",
       "      <td>Single/Never Married</td>\n",
       "      <td>88.666240</td>\n",
       "      <td>18.460963</td>\n",
       "    </tr>\n",
       "    <tr>\n",
       "      <th>2</th>\n",
       "      <td>Unknown</td>\n",
       "      <td>65.863750</td>\n",
       "      <td>13.132292</td>\n",
       "    </tr>\n",
       "    <tr>\n",
       "      <th>3</th>\n",
       "      <td>Divorced/Separated</td>\n",
       "      <td>91.418807</td>\n",
       "      <td>19.051767</td>\n",
       "    </tr>\n",
       "    <tr>\n",
       "      <th>4</th>\n",
       "      <td>Widowed</td>\n",
       "      <td>81.723948</td>\n",
       "      <td>18.327686</td>\n",
       "    </tr>\n",
       "  </tbody>\n",
       "</table>\n",
       "</div>"
      ],
      "text/plain": [
       "                 status  avg_portfolio_balance  avg_medical_insurance\n",
       "0               Partner              91.485530              19.349979\n",
       "1  Single/Never Married              88.666240              18.460963\n",
       "2               Unknown              65.863750              13.132292\n",
       "3    Divorced/Separated              91.418807              19.051767\n",
       "4               Widowed              81.723948              18.327686"
      ]
     },
     "execution_count": 38,
     "metadata": {},
     "output_type": "execute_result"
    }
   ],
   "source": [
    "spark.sql('''SELECT \n",
    "  status, \n",
    "  AVG(portfolio_balance) AS avg_portfolio_balance, \n",
    "  AVG(medical_insurance) AS avg_medical_insurance\n",
    "FROM \n",
    "  d\n",
    "GROUP BY \n",
    "  status;''').toPandas()"
   ]
  },
  {
   "cell_type": "code",
   "execution_count": null,
   "metadata": {},
   "outputs": [
    {
     "name": "stdout",
     "output_type": "stream",
     "text": [
      "('ref_no', 'string')\n",
      "('children', 'string')\n",
      "('age_band', 'string')\n",
      "('status', 'string')\n",
      "('occupation', 'string')\n",
      "('occupation_partner', 'string')\n",
      "('home_status', 'string')\n",
      "('self_employed', 'string')\n",
      "('self_employed_partner', 'string')\n",
      "('year_last_moved', 'string')\n",
      "('tvarea', 'string')\n",
      "('post_code', 'string')\n",
      "('post_area', 'string')\n",
      "('average_credit_card_transaction', 'string')\n",
      "('balance_transfer', 'string')\n",
      "('term_deposit', 'string')\n",
      "('life_insurance', 'string')\n",
      "('medical_insurance', 'string')\n",
      "('average_a_c_balance', 'string')\n",
      "('personal_loan', 'string')\n",
      "('investment_in_mutual_fund', 'string')\n",
      "('investment_tax_saving_bond', 'string')\n",
      "('home_loan', 'string')\n",
      "('online_purchase_amount', 'string')\n",
      "('discount_offering', 'string')\n",
      "('gender', 'string')\n",
      "('region', 'string')\n",
      "('investment_in_commudity', 'string')\n",
      "('investment_in_equity', 'string')\n",
      "('investment_in_derivative', 'string')\n",
      "('portfolio_balance', 'string')\n"
     ]
    }
   ],
   "source": [
    "schema = d.schema\n",
    "columns = [(field.name, field.dataType.simpleString()) for field in schema.fields]\n",
    "for i in columns:\n",
    "    print(i)"
   ]
  },
  {
   "cell_type": "code",
   "execution_count": null,
   "metadata": {},
   "outputs": [
    {
     "name": "stdout",
     "output_type": "stream",
     "text": [
      "{'ref_no': {'data_type': 'string', 'unique_values': ['296', '467', '675', '691', '829', '1090', '1436', '1512', '1572', '2069']}, 'children': {'data_type': 'string', 'unique_values': ['3', '4+', 'Zero', '1', '2']}, 'age_band': {'data_type': 'string', 'unique_values': ['41-45', '22-25', '45-50', '18-21', 'Unknown', '31-35', '71+', '51-55', '61-65', '55-60']}, 'status': {'data_type': 'string', 'unique_values': ['Partner', 'Single/Never Married', 'Unknown', 'Divorced/Separated', 'Widowed']}, 'occupation': {'data_type': 'string', 'unique_values': ['Student', 'Unknown', 'Other', 'Business Manager', 'Professional', 'Manual Worker', 'Housewife', 'Secretarial/Admin', 'Retired']}, 'occupation_partner': {'data_type': 'string', 'unique_values': ['Student', 'Unknown', 'Other', 'Business Manager', 'Professional', 'Manual Worker', 'Housewife', 'Secretarial/Admin', 'Retired']}, 'home_status': {'data_type': 'string', 'unique_values': ['Own Home', 'Rent Privately', 'Live in Parental Hom', 'Rent from Council/HA', 'Unclassified']}, 'self_employed': {'data_type': 'string', 'unique_values': ['No', 'Yes']}, 'self_employed_partner': {'data_type': 'string', 'unique_values': ['No', 'Yes']}, 'year_last_moved': {'data_type': 'string', 'unique_values': ['1953', '1903', '1957', '1987', '1956', '1936', '1958', '1910', '1943', '1915']}, 'tvarea': {'data_type': 'string', 'unique_values': ['Ulster', 'Grampian', 'Border', 'Tyne Tees', 'Unknown', 'Granada', 'Central', 'Yorkshire', 'TV South West', 'HTV']}, 'post_code': {'data_type': 'string', 'unique_values': ['PL1 5RH', 'CA28 6SB', 'TQ12 3TR', 'NG10 3GH', 'L10 7DR', 'BH23 1RB', 'PR6 7EA', 'GU15 4DD', 'B92 9AX', 'IG6 1LN']}, 'post_area': {'data_type': 'string', 'unique_values': ['RG24', 'TQ14', 'NR19', 'NR8', 'WF4', 'CT17', 'M19', 'WF8', 'DL6', 'L19']}, 'average_credit_card_transaction': {'data_type': 'string', 'unique_values': ['23.97', '31.47', '48.04', '89.46', '15.49', '59.44', '150.94', '18.96', '174.48', '169.92']}, 'balance_transfer': {'data_type': 'string', 'unique_values': ['89.46', '23.97', '116.99', '249.99', '65.32', '259.44', '189.92', '145.42', '437.4', '150.94']}, 'term_deposit': {'data_type': 'string', 'unique_values': ['23.97', '89.46', '31.47', '160.91', '73.43', '88.94', '182.93', '340.35', '18.96', '15.49']}, 'life_insurance': {'data_type': 'string', 'unique_values': ['105.42', '189.92', '30.86', '221.87', '105.92', '31.47', '88.94', '191.9', '23.97', '89.46']}, 'medical_insurance': {'data_type': 'string', 'unique_values': ['23.97', '105.42', '31.47', '73.43', '55.41', '79.41', '89.46', '15.49', '18.96', '71.83']}, 'average_a_c_balance': {'data_type': 'string', 'unique_values': ['31.47', '23.97', '143.92', '105.92', '89.46', '88.94', '55.41', '36.65', '110.9', '1.0']}, 'personal_loan': {'data_type': 'string', 'unique_values': ['88.94', '23.97', '31.47', '89.46', '55.41', '13.87', '143.92', '28.37', '73.43', '160.91']}, 'investment_in_mutual_fund': {'data_type': 'string', 'unique_values': ['31.47', '23.97', '105.42', '110.9', '28.79', '88.94', '73.43', '10.7', '78.9', '79.41']}, 'investment_tax_saving_bond': {'data_type': 'string', 'unique_values': ['73.43', '8.5', '1.0', '18.96', '15.49', '36.12', '14.49', '29.45', '49.96', '71.97']}, 'home_loan': {'data_type': 'string', 'unique_values': ['42.87', '23.97', '20.64', '73.43', '8.5', '31.47', '10.7', '23.92', '1.0', '18.96']}, 'online_purchase_amount': {'data_type': 'string', 'unique_values': ['23.97', '55.41', '105.92', '31.47', '189.92', '73.43', '34.63', '78.9', '174.44', '1.0']}, 'discount_offering': {'data_type': 'string', 'unique_values': ['1', '2']}, 'gender': {'data_type': 'string', 'unique_values': ['Female', 'Unknown', 'Male']}, 'region': {'data_type': 'string', 'unique_values': ['North West', 'Wales', 'South East', 'Isle of Man', 'Unknown', 'Channel Islands', 'East Anglia', 'South West', 'East Midlands', 'West Midlands']}, 'investment_in_commudity': {'data_type': 'string', 'unique_values': ['10.7', '287.23', '8.5', '83.65', '28.79', '65.66', '40.67', '42.87', '65.32', '13.87']}, 'investment_in_equity': {'data_type': 'string', 'unique_values': ['31.47', '7.16', '20.64', '34.71', '48.04', '8.5', '23.97', '10.7', '91.75', '37.21']}, 'investment_in_derivative': {'data_type': 'string', 'unique_values': ['7.16', '48.04', '31.47', '19.06', '8.5', '10.7', '34.71', '73.54', '79.41', '200.88']}, 'portfolio_balance': {'data_type': 'string', 'unique_values': ['222.63', '122.2', '119.8', '55.41', '-44.7', '102.0', '28.37', '243.46', '-2.33', '-3.35']}}\n"
     ]
    }
   ],
   "source": [
    "# Version Mismatch, use 3.11\n",
    "table_metadata = {}\n",
    "for column_name, data_type in columns:\n",
    "    column_name = column_name.lower().replace(\" \", \"_\").replace(\"/\", \"_\")        \n",
    "    unique_values = []\n",
    "    if data_type == 'string':\n",
    "        unique_values = d.select(column_name).distinct().limit(10).rdd.flatMap(lambda x: x).collect()        \n",
    "        table_metadata[column_name] = {\n",
    "                'data_type': data_type,\n",
    "                'unique_values': unique_values\n",
    "            }\n",
    "        \n",
    "print(table_metadata)"
   ]
  },
  {
   "cell_type": "code",
   "execution_count": null,
   "metadata": {},
   "outputs": [],
   "source": [
    "new_table = spark.table(\"d\")"
   ]
  },
  {
   "cell_type": "code",
   "execution_count": null,
   "metadata": {},
   "outputs": [
    {
     "data": {
      "text/plain": [
       "DataFrame[ref_no: string, children: string, age_band: string, status: string, occupation: string, occupation_partner: string, home_status: string, self_employed: string, self_employed_partner: string, year_last_moved: string, tvarea: string, post_code: string, post_area: string, average_credit_card_transaction: string, balance_transfer: string, term_deposit: string, life_insurance: string, medical_insurance: string, average_a_c_balance: string, personal_loan: string, investment_in_mutual_fund: string, investment_tax_saving_bond: string, home_loan: string, online_purchase_amount: string, discount_offering: string, gender: string, region: string, investment_in_commudity: string, investment_in_equity: string, investment_in_derivative: string, portfolio_balance: string]"
      ]
     },
     "execution_count": 22,
     "metadata": {},
     "output_type": "execute_result"
    }
   ],
   "source": [
    "new_table"
   ]
  },
  {
   "cell_type": "markdown",
   "metadata": {},
   "source": [
    "### Session-2"
   ]
  },
  {
   "cell_type": "code",
   "execution_count": null,
   "metadata": {},
   "outputs": [],
   "source": [
    "spark = SparkSession.builder.getOrCreate()\n",
    "d = spark.read.csv(\"test_data.csv\", header=True).toPandas()"
   ]
  },
  {
   "cell_type": "code",
   "execution_count": null,
   "metadata": {},
   "outputs": [
    {
     "data": {
      "text/plain": [
       "Index(['ref_no', 'children', 'age_band', 'status', 'occupation',\n",
       "       'occupation_partner', 'home_status', 'self_employed',\n",
       "       'self_employed_partner', 'year_last_moved', 'tvarea', 'post_code',\n",
       "       'post_area', 'average_credit_card_transaction', 'balance_transfer',\n",
       "       'term_deposit', 'life_insurance', 'medical_insurance',\n",
       "       'average_a_c_balance', 'personal_loan', 'investment_in_mutual_fund',\n",
       "       'investment_tax_saving_bond', 'home_loan', 'online_purchase_amount',\n",
       "       'discount_offering', 'gender', 'region', 'investment_in_commudity',\n",
       "       'investment_in_equity', 'investment_in_derivative',\n",
       "       'portfolio_balance'],\n",
       "      dtype='object')"
      ]
     },
     "execution_count": 28,
     "metadata": {},
     "output_type": "execute_result"
    }
   ],
   "source": [
    "d.columns"
   ]
  },
  {
   "cell_type": "code",
   "execution_count": null,
   "metadata": {},
   "outputs": [],
   "source": []
  }
 ],
 "metadata": {
  "kernelspec": {
   "display_name": "venv",
   "language": "python",
   "name": "python3"
  },
  "language_info": {
   "codemirror_mode": {
    "name": "ipython",
    "version": 3
   },
   "file_extension": ".py",
   "mimetype": "text/x-python",
   "name": "python",
   "nbconvert_exporter": "python",
   "pygments_lexer": "ipython3",
   "version": "3.11.8"
  }
 },
 "nbformat": 4,
 "nbformat_minor": 2
}
