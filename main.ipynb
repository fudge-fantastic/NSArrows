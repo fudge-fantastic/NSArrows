{
 "cells": [
  {
   "cell_type": "code",
   "execution_count": 69,
   "metadata": {},
   "outputs": [],
   "source": [
    "import os\n",
    "import dotenv\n",
    "import psycopg2\n",
    "from psycopg2 import sql\n",
    "import pandas as pd\n",
    "from groq import Groq"
   ]
  },
  {
   "cell_type": "code",
   "execution_count": 70,
   "metadata": {},
   "outputs": [],
   "source": [
    "def get_database_connection():\n",
    "  # Establishes a connection to the PostgreSQL database\n",
    "  dotenv.load_dotenv()\n",
    "  try:\n",
    "    conn = psycopg2.connect(\n",
    "        database=os.environ.get(\"DATABASE_NAME\"),\n",
    "        user=os.environ.get(\"DATABASE_USER\"),\n",
    "        password=os.environ.get(\"DATABASE_PASSWORD\"),\n",
    "        host=os.environ.get(\"DATABASE_HOST\"),\n",
    "        port=os.environ.get(\"DATABASE_PORT\")\n",
    "    )\n",
    "    print(\"Connected to the PostgreSQL database!\")\n",
    "    return conn\n",
    "  \n",
    "  except (Exception, psycopg2.Error) as error:\n",
    "    print(\"Error while connecting to PostgreSQL\", error)\n",
    "    return None"
   ]
  },
  {
   "cell_type": "code",
   "execution_count": 71,
   "metadata": {},
   "outputs": [],
   "source": [
    "api_key = os.environ.get(\"GROQ_API_KEY\")\n",
    "\n",
    "if not api_key:\n",
    "    raise ValueError(\"GROQ_API_KEY environment variable not set\")"
   ]
  },
  {
   "cell_type": "code",
   "execution_count": 72,
   "metadata": {},
   "outputs": [],
   "source": [
    "def get_table_metadata(conn, table_name):\n",
    "    try:\n",
    "        cursor = conn.cursor()\n",
    "\n",
    "        # Get column names and data types\n",
    "        cursor.execute(sql.SQL(\"\"\"\n",
    "            SELECT column_name, data_type\n",
    "            FROM information_schema.columns\n",
    "            WHERE table_name = %s;\n",
    "        \"\"\"), [table_name])\n",
    "        columns = cursor.fetchall()\n",
    "\n",
    "        # Prepare a dictionary to hold the column metadata\n",
    "        table_metadata = {}\n",
    "        \n",
    "        for column_name, data_type in columns:\n",
    "            # Convert column name to lowercase and replace blank spaces and slashes with underscores\n",
    "            column_name = column_name.lower().replace(\" \", \"_\").replace(\"/\", \"_\")\n",
    "\n",
    "            unique_values = []\n",
    "\n",
    "            # Only fetch unique values for text columns\n",
    "            if data_type == 'text':\n",
    "                cursor.execute(sql.SQL(\"\"\"\n",
    "                    SELECT DISTINCT {column}\n",
    "                    FROM {table}\n",
    "                    LIMIT 10;\n",
    "                \"\"\").format(\n",
    "                    column=sql.Identifier(column_name),\n",
    "                    table=sql.Identifier(table_name)\n",
    "                ))\n",
    "                unique_values = cursor.fetchall()\n",
    "                # Flatten the list of unique values\n",
    "                unique_values = [val[0] for val in unique_values]\n",
    "            \n",
    "            # Store the column metadata\n",
    "            table_metadata[column_name] = {\n",
    "                'data_type': data_type,\n",
    "                'unique_values': unique_values\n",
    "            }\n",
    "        \n",
    "        cursor.close()\n",
    "        return table_metadata\n",
    "\n",
    "    except (Exception, psycopg2.Error) as error:\n",
    "        print(\"Error while fetching table metadata\", error)\n",
    "        return None"
   ]
  },
  {
   "cell_type": "code",
   "execution_count": 73,
   "metadata": {},
   "outputs": [
    {
     "name": "stdout",
     "output_type": "stream",
     "text": [
      "Connected to the PostgreSQL database!\n",
      "portfolio_balance: double precision\n",
      "life_insurance: double precision\n",
      "medical_insurance: double precision\n",
      "average_a_c_balance: double precision\n",
      "personal_loan: double precision\n",
      "investment_in_mutual_fund: double precision\n",
      "investment_tax_saving_bond: double precision\n",
      "home_loan: double precision\n",
      "online_purchase_amount: double precision\n",
      "discount_offering: integer\n",
      "investment_in_commudity: double precision\n",
      "investment_in_equity: double precision\n",
      "investment_in_derivative: double precision\n",
      "ref_no: integer\n",
      "year_last_moved: integer\n",
      "average_credit_card_transaction: double precision\n",
      "balance_transfer: double precision\n",
      "term_deposit: double precision\n",
      "children: text (Unique Values: 3, 4+, 2, 1, Zero)\n",
      "age_band: text (Unique Values: 18-21, 36-40, Unknown, 45-50, 65-70, 26-30, 71+, 61-65, 22-25, 55-60)\n",
      "status: text (Unique Values: Unknown, Single/Never Married, Widowed, Partner, Divorced/Separated)\n",
      "occupation: text (Unique Values: Professional, Other, Unknown, Housewife, Student, Retired, Business Manager, Manual Worker, Secretarial/Admin)\n",
      "occupation_partner: text (Unique Values: Professional, Other, Unknown, Housewife, Student, Retired, Business Manager, Manual Worker, Secretarial/Admin)\n",
      "home_status: text (Unique Values: Unclassified, Live in Parental Hom, Rent Privately, Rent from Council/HA, Own Home)\n",
      "self_employed: text (Unique Values: No, Yes)\n",
      "self_employed_partner: text (Unique Values: No, Yes)\n",
      "region: text (Unique Values: Northern Ireland, South East, East Anglia, Scotland, Wales, Unknown, North West, Isle of Man, South West, Channel Islands)\n",
      "tvarea: text (Unique Values: Tyne Tees, Ulster, Border, TV South West, Meridian, Grampian, Granada, HTV, Anglia, Unknown)\n",
      "post_code: text (Unique Values: FK4 1DP, TS5 7AS, HU17 0EA, LS22 6PW, NN16 9SA, L22 5TY, L39 5BT, RG20 6RA, TA4 1PW, BB12 7ES)\n",
      "post_area: text (Unique Values: NR21, EH19, HP22, PL26, SM2, LE4, G78, EX7, KA10, PA24)\n",
      "gender: text (Unique Values: Unknown, Male, Female)\n",
      "\n"
     ]
    }
   ],
   "source": [
    "def format_metadata(metadata):\n",
    "    formatted_metadata = \"\"\n",
    "    for col, info in metadata.items():\n",
    "        formatted_metadata += f\"{col}: {info['data_type']}\"\n",
    "        if info['data_type'] == 'text':\n",
    "            formatted_metadata += f\" (Unique Values: {', '.join(info['unique_values'])})\"\n",
    "        formatted_metadata += \"\\n\"\n",
    "    return formatted_metadata\n",
    "\n",
    "\n",
    "connection = get_database_connection()\n",
    "if connection:\n",
    "    table_name = \"disc_off\"\n",
    "    metadata = get_table_metadata(connection, table_name)\n",
    "    formatted_metadata = format_metadata(metadata)\n",
    "    print(formatted_metadata)\n",
    "    connection.close()"
   ]
  },
  {
   "cell_type": "code",
   "execution_count": 74,
   "metadata": {},
   "outputs": [],
   "source": [
    "def get_llama_assistance(prompt, formatted_metadata, table_name):\n",
    "    main_purpose = f\"\"\"\n",
    "    As an SQL Query Expert, your primary role is to understand the given data, the questions based on the provided input and generate accurate SQL queries ONLY. \n",
    "    Remember, you only have to answer the Query for the given input, don't give any explanation, just the query. \n",
    "    Here are the column names with respect to their information: \n",
    "    {formatted_metadata}\n",
    "    Please follow the exact variable patterns. \n",
    "    And the table name is {table_name}\n",
    "    Here is/are the Questions:\"\"\"\n",
    "\n",
    "    client = Groq(api_key=os.environ.get(\"GROQ_API_KEY\"))\n",
    "    completion = client.chat.completions.create(\n",
    "        model=\"llama3-70b-8192\",\n",
    "        messages=[\n",
    "            {\n",
    "                \"role\": \"user\",\n",
    "                \"content\": f\"{main_purpose} {prompt}\"\n",
    "            },\n",
    "            {\n",
    "                \"role\": \"assistant\",\n",
    "                \"content\": \"\"\n",
    "            }\n",
    "        ],\n",
    "        temperature=1.4,\n",
    "        max_tokens=8192,\n",
    "        top_p=1,\n",
    "        stream=True,\n",
    "        stop=None,\n",
    "    )\n",
    "\n",
    "    response_text = \"\"\n",
    "    for chunk in completion:\n",
    "        response_text += chunk.choices[0].delta.content or \"\"\n",
    "    \n",
    "    return response_text"
   ]
  },
  {
   "cell_type": "code",
   "execution_count": 75,
   "metadata": {},
   "outputs": [
    {
     "name": "stdout",
     "output_type": "stream",
     "text": [
      "portfolio_balance: double precision\n",
      "life_insurance: double precision\n",
      "medical_insurance: double precision\n",
      "average_a_c_balance: double precision\n",
      "personal_loan: double precision\n",
      "investment_in_mutual_fund: double precision\n",
      "investment_tax_saving_bond: double precision\n",
      "home_loan: double precision\n",
      "online_purchase_amount: double precision\n",
      "discount_offering: integer\n",
      "investment_in_commudity: double precision\n",
      "investment_in_equity: double precision\n",
      "investment_in_derivative: double precision\n",
      "ref_no: integer\n",
      "year_last_moved: integer\n",
      "average_credit_card_transaction: double precision\n",
      "balance_transfer: double precision\n",
      "term_deposit: double precision\n",
      "children: text (Unique Values: 3, 4+, 2, 1, Zero)\n",
      "age_band: text (Unique Values: 18-21, 36-40, Unknown, 45-50, 65-70, 26-30, 71+, 61-65, 22-25, 55-60)\n",
      "status: text (Unique Values: Unknown, Single/Never Married, Widowed, Partner, Divorced/Separated)\n",
      "occupation: text (Unique Values: Professional, Other, Unknown, Housewife, Student, Retired, Business Manager, Manual Worker, Secretarial/Admin)\n",
      "occupation_partner: text (Unique Values: Professional, Other, Unknown, Housewife, Student, Retired, Business Manager, Manual Worker, Secretarial/Admin)\n",
      "home_status: text (Unique Values: Unclassified, Live in Parental Hom, Rent Privately, Rent from Council/HA, Own Home)\n",
      "self_employed: text (Unique Values: No, Yes)\n",
      "self_employed_partner: text (Unique Values: No, Yes)\n",
      "region: text (Unique Values: Northern Ireland, South East, East Anglia, Scotland, Wales, Unknown, North West, Isle of Man, South West, Channel Islands)\n",
      "tvarea: text (Unique Values: Tyne Tees, Ulster, Border, TV South West, Meridian, Grampian, Granada, HTV, Anglia, Unknown)\n",
      "post_code: text (Unique Values: FK4 1DP, TS5 7AS, HU17 0EA, LS22 6PW, NN16 9SA, L22 5TY, L39 5BT, RG20 6RA, TA4 1PW, BB12 7ES)\n",
      "post_area: text (Unique Values: NR21, EH19, HP22, PL26, SM2, LE4, G78, EX7, KA10, PA24)\n",
      "gender: text (Unique Values: Unknown, Male, Female)\n",
      "\n"
     ]
    }
   ],
   "source": [
    "print(formatted_metadata)"
   ]
  },
  {
   "cell_type": "code",
   "execution_count": 77,
   "metadata": {},
   "outputs": [
    {
     "name": "stdout",
     "output_type": "stream",
     "text": [
      "Connected to the PostgreSQL database!\n",
      "```\n",
      "SELECT post_area, COUNT(ref_no) as num_customers\n",
      "FROM disc_off\n",
      "GROUP BY post_area\n",
      "ORDER BY num_customers DESC\n",
      "LIMIT 5;\n",
      "```\n"
     ]
    }
   ],
   "source": [
    "connection = get_database_connection()\n",
    "if connection:\n",
    "    table_name = \"disc_off\"\n",
    "    input_question = input(\"Enter the Question: \")\n",
    "    response = get_llama_assistance(input_question, formatted_metadata, table_name)\n",
    "    print(response)\n",
    "    connection.close()"
   ]
  },
  {
   "cell_type": "code",
   "execution_count": null,
   "metadata": {},
   "outputs": [],
   "source": []
  }
 ],
 "metadata": {
  "kernelspec": {
   "display_name": "venv",
   "language": "python",
   "name": "python3"
  },
  "language_info": {
   "codemirror_mode": {
    "name": "ipython",
    "version": 3
   },
   "file_extension": ".py",
   "mimetype": "text/x-python",
   "name": "python",
   "nbconvert_exporter": "python",
   "pygments_lexer": "ipython3",
   "version": "3.12.0"
  }
 },
 "nbformat": 4,
 "nbformat_minor": 2
}
