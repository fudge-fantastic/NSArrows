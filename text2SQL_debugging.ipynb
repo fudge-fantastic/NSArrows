{
 "cells": [
  {
   "cell_type": "code",
   "execution_count": 1,
   "metadata": {},
   "outputs": [],
   "source": [
    "import os\n",
    "import dotenv\n",
    "import psycopg2\n",
    "import sqlparse\n",
    "from groq import Groq\n",
    "from IPython.display import display_markdown\n",
    "\n",
    "dotenv.load_dotenv()\n",
    "api_key = os.environ.get(\"GROQ_API_KEY\")\n",
    "\n",
    "if not api_key:\n",
    "    raise ValueError(\"GROQ_API_KEY environment variable not set\")"
   ]
  },
  {
   "cell_type": "code",
   "execution_count": null,
   "metadata": {},
   "outputs": [],
   "source": [
    "from groq import Groq\n",
    "\n",
    "client = Groq()\n",
    "completion = client.chat.completions.create(\n",
    "    model=\"llama3-70b-8192\",\n",
    "    messages=[\n",
    "        {\n",
    "            \"role\": \"user\",\n",
    "            \"content\": \"Give me a code for Two sorted arrays \"\n",
    "        }\n",
    "    ],\n",
    "    temperature=1.4,\n",
    "    max_tokens=8192,\n",
    "    top_p=1,\n",
    "    stream=False,\n",
    "    stop=None,\n",
    ")\n",
    "\n",
    "print(completion.choices[0].message)"
   ]
  },
  {
   "cell_type": "code",
   "execution_count": 3,
   "metadata": {},
   "outputs": [
    {
     "name": "stdout",
     "output_type": "stream",
     "text": [
      "Connected to the PostgreSQL database!\n"
     ]
    }
   ],
   "source": [
    "database_name = \"postgres\"\n",
    "try:\n",
    "    conn  = psycopg2.connect(\n",
    "        database = database_name,\n",
    "        user = \"postgres\",\n",
    "        password = \"4344\",\n",
    "        host = \"localhost\",\n",
    "        port = \"5433\"\n",
    "    )\n",
    "    print(\"Connected to the PostgreSQL database!\")\n",
    "except (Exception, psycopg2.Error) as error:\n",
    "    print(\"Error while connecting to PostgreSQL\", error)"
   ]
  },
  {
   "cell_type": "code",
   "execution_count": 4,
   "metadata": {},
   "outputs": [],
   "source": [
    "# Fetch Data\n",
    "cur = conn.cursor()\n",
    "query = '''SELECT * FROM customer_data\n",
    "        LIMIT 10;'''  \n",
    "        \n",
    "query2 = '''SELECT * FROM information_schema.columns WHERE table_name = 'customer_data';'''  \n",
    "cur.execute(query)"
   ]
  },
  {
   "cell_type": "code",
   "execution_count": 5,
   "metadata": {},
   "outputs": [
    {
     "name": "stdout",
     "output_type": "stream",
     "text": [
      "(1, 'Zero', '51-55', 'Partner', 'Manual Worker', 'Secretarial/Admin', 'Own Home', 'No', 'No', 1972, 'HTV', 'NP4 9HS', 'NP4', 148.44, 142.95, 0.0, 81.96, 0.0, 29.99, 0.0, 61.95, 19.99, 0.0, 0.0, 1, 'Female', 'Wales', 74.67, 18.66, 32.32, 89.43)\n",
      "(2, 'Zero', '55-60', 'Single/Never Married', 'Retired', 'Retired', 'Own Home', 'No', 'No', 1998, 'Granada', 'M41 0QH', 'M41', 0.0, 74.98, 0.0, 25.99, 0.0, 0.0, 0.0, 0.0, 0.0, 0.0, 0.0, 2, 'Female', 'North West', 20.19, 0.0, 4.33, 22.78)\n",
      "(3, 'Zero', '26-30', 'Single/Never Married', 'Professional', 'Other', 'Own Home', 'Yes', 'No', 1996, 'Tyne Tees', 'NE30 1JZ', 'NE30', 0.0, 166.44, 20.99, 291.37, 11.48, 166.94, 0.0, 15.99, 0.0, 3.49, 0.0, 2, 'Male', 'North', 98.06, 31.07, 80.96, 171.78)\n",
      "(5, 'Zero', '18-21', 'Single/Never Married', 'Professional', 'Manual Worker', 'Own Home', 'No', 'No', 1997, 'Central', 'HR9 7RJ', 'HR9', 0.0, 0.0, 0.0, 20.49, 0.0, 39.46, 0.0, 45.44, 0.0, 0.0, 0.0, 2, 'Female', 'West Midlands', 4.1, 14.15, 17.57, -41.7)\n",
      "(6, 'Zero', '45-50', 'Partner', 'Business Manager', 'Unknown', 'Own Home', 'No', 'No', 1995, 'Scottish TV', 'KA10 7LS', 'KA10', 73.45, 57.96, 0.0, 177.42, 41.95, 39.47, 10.97, 212.84, 0.0, 45.91, 25.98, 2, 'Female', 'Scotland', 70.16, 55.86, 80.44, 235.02)\n",
      "(7, 'Zero', '55-60', 'Partner', 'Secretarial/Admin', 'Manual Worker', 'Own Home', 'No', 'Yes', 1984, 'Anglia', 'IP24 1AY', 'IP24', 0.0, 125.45, 0.0, 129.96, 0.0, 0.0, 0.0, 88.95, 0.0, 0.0, 0.0, 2, 'Female', 'East Anglia', 51.08, 14.83, 36.49, 72.3)\n",
      "(8, 'Zero', '45-50', 'Partner', 'Professional', 'Manual Worker', 'Own Home', 'No', 'No', 1985, 'Central', 'CV32 7BN', 'CV32', 0.0, 29.48, 97.42, 0.02, 39.45, 63.97, 0.0, 49.42, 0.0, 0.0, 0.0, 2, 'Female', 'West Midlands', 33.27, 18.9, 25.48, 115.28)\n",
      "(9, '1', '36-40', 'Partner', 'Professional', 'Professional', 'Own Home', 'No', 'No', 1993, 'Scottish TV', 'G68 9AN', 'G68', 0.0, 0.01, 175.88, 67.47, 0.0, 110.95, 86.39, 74.93, 41.71, 35.41, 11.99, 2, 'Female', 'Scotland', 48.67, 60.23, 63.58, 162.4)\n",
      "(10, 'Zero', '36-40', 'Single/Never Married', 'Secretarial/Admin', 'Unknown', 'Own Home', 'No', 'No', 1995, 'Carlton', 'E15 3AR', 'E15', 25.0, 0.0, 76.45, 24.99, 0.0, 87.93, 0.0, 253.27, 12.48, 7.21, 8.99, 2, 'Male', 'South East', 25.29, 61.65, 63.11, 105.2)\n",
      "(11, '2', '36-40', 'Partner', 'Professional', 'Professional', 'Own Home', 'No', 'No', 1993, 'Granada', 'WA14 4UH', 'WA14', 0.0, 74.98, 62.98, 141.91, 44.48, 0.0, 13.99, 49.95, 0.0, 10.49, 7.98, 2, 'Female', 'North West', 64.87, 13.74, 41.72, 93.09)\n"
     ]
    }
   ],
   "source": [
    "results = cur.fetchall()  # for only one record, for all records, use fetchall(): for row in results: print(row)\n",
    "for i in results:\n",
    "    print(i)"
   ]
  },
  {
   "cell_type": "code",
   "execution_count": 6,
   "metadata": {},
   "outputs": [],
   "source": [
    "conn.commit()\n",
    "conn.close()"
   ]
  }
 ],
 "metadata": {
  "kernelspec": {
   "display_name": "venv",
   "language": "python",
   "name": "python3"
  },
  "language_info": {
   "codemirror_mode": {
    "name": "ipython",
    "version": 3
   },
   "file_extension": ".py",
   "mimetype": "text/x-python",
   "name": "python",
   "nbconvert_exporter": "python",
   "pygments_lexer": "ipython3",
   "version": "3.12.0"
  }
 },
 "nbformat": 4,
 "nbformat_minor": 2
}
